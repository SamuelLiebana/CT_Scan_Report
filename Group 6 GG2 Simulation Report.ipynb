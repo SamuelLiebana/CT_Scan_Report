{
 "cells": [
  {
   "cell_type": "markdown",
   "metadata": {},
   "source": [
    "# CT Scanner Simulation: Proof of Functionality (Group 6)"
   ]
  },
  {
   "cell_type": "markdown",
   "metadata": {},
   "source": [
    "## Introduction\n",
    "\n",
    "In this report we report the functionality of the Python CT scanner Simulation that has been developed over the course of the first 2 weeks of project GG2.\n",
    "\n",
    "The main capabilities of this simulation are listed below:\n",
    "\n",
    "1. X-Ray Source Definition for X-Ray Generation (`photons.py` & `fake_source.py`)\n",
    "\n",
    "2. Modelling of X-Ray Scattering and Attenuation by Different Materials (class `Material`)\n",
    "\n",
    "3. Simulation of the X-ray Detector Array (`ct_detect.py`)\n",
    "\n",
    "4. Phantom Definition (`ct_phantom.py`)\n",
    "\n",
    "5. Production of Uncalibrated Sinograms (`ct_scan.py`)\n",
    "\n",
    "6. Production of Calibrated Sinograms (`ct_calibrate.py`)\n",
    "\n",
    "7. Implementation of the Inverse Radon Transform for Reconstruction from Sinograms (`back_project.py` & `ramp_filter.py`)\n",
    "\n",
    "8. Complete Implementation of the Scanning and Reconstruction Process for an Arbitrary Phantom (`scan_and_reconstruct.py`)"
   ]
  },
  {
   "attachments": {},
   "cell_type": "markdown",
   "metadata": {},
   "source": [
    "## X-Ray Source Definition for X-Ray Generation\n",
    "\n",
    "![Figure 1]( source.JPG \"Figure 1: Schematic of a typical X-ray source. Reproduced from GG2 Project Handout. Author: Graham Treece\")\n",
    "<center>Figure 1: Schematic of a typical X-ray source. Reproduced from GG2 Project Handout. Author: Graham Treece</center>\n",
    "\n",
    "\n",
    "The modules `photons.py` and `fake_source.py` provide the X-ray source generation capability of our simulation. Sources with different energy distributions can be selected from the predefined sources stored in the `source` class. The different sources vary in filter type, filter width and the potential difference between anode and cathode (see Fig.1) in kVp which limits the maximum photon energy in the resulting distribution. The predefined options are listed below:\n",
    "\n",
    "1. 100kVp, 1mm Al\n",
    "2. 100kVp, 2mm Al\n",
    "3. 100kVp, 3mm Al\n",
    "4. 100kVp, 4mm Al\n",
    "5. 80kVp, 1mm Al\n",
    "6. 80kVp, 2mm Al\n",
    "7. 80kVp, 3mm Al\n",
    "8. 80kVp, 4mm Al\n",
    "\n",
    "The source distributions for these options are plotted in Fig. 2.\n",
    "\n",
    "![Figure 1]( source.JPG \"Figure 1: Schematic of a typical X-ray source. Reproduced from GG2 Project Handout. Author: Graham Treece\")\n",
    "\n",
    "In `fake_source.py` we also provide the option of generating an arbitrary source distribution by allowing the user to define a filter material, filter width, and maximum photon energy (through anode/cathode potential difference). This module further provides the option of defining an ideal source with an energy distribution centred on the maximum photon energy specified by the user.\n",
    "\n"
   ]
  },
  {
   "cell_type": "code",
   "execution_count": 5,
   "metadata": {},
   "outputs": [
    {
     "data": {
      "text/html": [
       "<video src=\"ideal_source_reconstruction_video.mp4\" controls  >\n",
       "      Your browser does not support the <code>video</code> element.\n",
       "    </video>"
      ],
      "text/plain": [
       "<IPython.core.display.Video object>"
      ]
     },
     "execution_count": 5,
     "metadata": {},
     "output_type": "execute_result"
    }
   ],
   "source": [
    "from IPython.display import Video\n",
    "Video(\"ideal_source_reconstruction_video.mp4\")"
   ]
  },
  {
   "cell_type": "code",
   "execution_count": 6,
   "metadata": {},
   "outputs": [
    {
     "data": {
      "text/html": [
       "<video src=\"angle_differences_video.mp4\" controls  >\n",
       "      Your browser does not support the <code>video</code> element.\n",
       "    </video>"
      ],
      "text/plain": [
       "<IPython.core.display.Video object>"
      ]
     },
     "execution_count": 6,
     "metadata": {},
     "output_type": "execute_result"
    }
   ],
   "source": [
    "Video(\"angle_differences_video.mp4\")"
   ]
  },
  {
   "cell_type": "code",
   "execution_count": null,
   "metadata": {},
   "outputs": [],
   "source": []
  }
 ],
 "metadata": {
  "kernelspec": {
   "display_name": "Python 3",
   "language": "python",
   "name": "python3"
  },
  "language_info": {
   "codemirror_mode": {
    "name": "ipython",
    "version": 3
   },
   "file_extension": ".py",
   "mimetype": "text/x-python",
   "name": "python",
   "nbconvert_exporter": "python",
   "pygments_lexer": "ipython3",
   "version": "3.7.3"
  }
 },
 "nbformat": 4,
 "nbformat_minor": 2
}

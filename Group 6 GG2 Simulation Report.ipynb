{
 "cells": [
  {
   "cell_type": "markdown",
   "metadata": {},
   "source": [
    "# CT Scanner Simulation: Proof of Functionality (Group 6)"
   ]
  },
  {
   "cell_type": "markdown",
   "metadata": {},
   "source": [
    "## Introduction\n",
    "\n",
    "In this report we report the functionality of the Python CT scanner Simulation that has been developed over the course of the first 2 weeks of project GG2.\n",
    "\n",
    "The main capabilities of this simulation are listed below:\n",
    "\n",
    "1. X-Ray Source Definition for X-Ray Generation (`photons.py` & `fake_source.py`)\n",
    "\n",
    "2. Modelling of X-Ray Scattering and Attenuation by Different Materials (class `Material`)\n",
    "\n",
    "3. Simulation of the X-ray Detector Array (`ct_detect.py`)\n",
    "\n",
    "4. Phantom Definition (`ct_phantom.py`)\n",
    "\n",
    "5. Production of Uncalibrated Sinograms (`ct_scan.py`)\n",
    "\n",
    "6. Production of Calibrated Sinograms (`ct_calibrate.py`)\n",
    "\n",
    "7. Implementation of the Inverse Radon Transform for Reconstruction from Sinograms (`back_project.py` & `ramp_filter.py`)\n",
    "\n",
    "8. Complete Implementation of the Scanning and Reconstruction Process for an Arbitrary Phantom (`scan_and_reconstruct.py`)"
   ]
  },
  {
   "cell_type": "markdown",
   "metadata": {},
   "source": [
    "## X-Ray Source Definition for X-Ray Generation\n",
    "\n",
    "The modules `photons.py` and `fake_source.py` provide the X-ray source generation capability of our simulation. Sources with different energy distributions can be selected from the predefined sources stored in the `source` class. The different sources vary in filter type, filter width and the maximum photon energy in kVp. The options are listed below:\n",
    "\n",
    "1.\n",
    "2.\n",
    "3.\n",
    "4.\n",
    "\n",
    "\n",
    "We also provide the option of generating an arbitrary source distribution by selecting a  filter material and width\n",
    "\n",
    "stored in the \"source\" class dependent on the filter type and stores them as class attributes of the class \"source\". The predefined filter types are:\n",
    "\n",
    "\n"
   ]
  },
  {
   "cell_type": "code",
   "execution_count": 5,
   "metadata": {},
   "outputs": [
    {
     "data": {
      "text/html": [
       "<video src=\"ideal_source_reconstruction_video.mp4\" controls  >\n",
       "      Your browser does not support the <code>video</code> element.\n",
       "    </video>"
      ],
      "text/plain": [
       "<IPython.core.display.Video object>"
      ]
     },
     "execution_count": 5,
     "metadata": {},
     "output_type": "execute_result"
    }
   ],
   "source": [
    "from IPython.display import Video\n",
    "Video(\"ideal_source_reconstruction_video.mp4\")"
   ]
  },
  {
   "cell_type": "code",
   "execution_count": 6,
   "metadata": {},
   "outputs": [
    {
     "data": {
      "text/html": [
       "<video src=\"angle_differences_video.mp4\" controls  >\n",
       "      Your browser does not support the <code>video</code> element.\n",
       "    </video>"
      ],
      "text/plain": [
       "<IPython.core.display.Video object>"
      ]
     },
     "execution_count": 6,
     "metadata": {},
     "output_type": "execute_result"
    }
   ],
   "source": [
    "Video(\"angle_differences_video.mp4\")"
   ]
  },
  {
   "cell_type": "code",
   "execution_count": null,
   "metadata": {},
   "outputs": [],
   "source": []
  }
 ],
 "metadata": {
  "kernelspec": {
   "display_name": "Python 3",
   "language": "python",
   "name": "python3"
  },
  "language_info": {
   "codemirror_mode": {
    "name": "ipython",
    "version": 3
   },
   "file_extension": ".py",
   "mimetype": "text/x-python",
   "name": "python",
   "nbconvert_exporter": "python",
   "pygments_lexer": "ipython3",
   "version": "3.7.3"
  }
 },
 "nbformat": 4,
 "nbformat_minor": 2
}

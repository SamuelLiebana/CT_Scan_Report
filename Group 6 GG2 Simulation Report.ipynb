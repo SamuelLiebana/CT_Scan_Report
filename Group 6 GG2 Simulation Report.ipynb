{
 "cells": [
  {
   "cell_type": "markdown",
   "metadata": {},
   "source": [
    "# CT Scanner Simulation: Proof of Functionality (Group 6)"
   ]
  },
  {
   "cell_type": "markdown",
   "metadata": {},
   "source": [
    "## Introduction\n",
    "\n",
    "In this report we report the functionality of the Python CT scanner simulation that has been developed over the course of the first 2 weeks of project GG2.\n",
    "\n",
    "The main capabilities of this simulation are listed below:\n",
    "\n",
    "1. X-Ray Source Definition for X-Ray Generation (`photons.py` & `fake_source.py`)\n",
    "\n",
    "2. Modelling of X-Ray Scattering and Attenuation by Different Materials (class `Material`)\n",
    "\n",
    "3. Simulation of the X-ray Detector Array (`ct_detect.py`)\n",
    "\n",
    "4. Phantom Definition (`ct_phantom.py`)\n",
    "\n",
    "5. Production of Uncalibrated Sinograms (`ct_scan.py`)\n",
    "\n",
    "6. Production of Calibrated Sinograms (`ct_calibrate.py`)\n",
    "\n",
    "7. Implementation of the Inverse Radon Transform for Reconstruction from Sinograms (`back_project.py` & `ramp_filter.py`)\n",
    "\n",
    "8. Complete Implementation of the Scanning and Reconstruction Process for an Arbitrary Phantom (`scan_and_reconstruct.py`)"
   ]
  },
  {
   "cell_type": "markdown",
   "metadata": {},
   "source": [
    "## 1. X-Ray Source Definition for X-Ray Generation\n",
    "\n",
    "![Figure 1]( source.JPG \"Figure 1: Schematic of a typical X-ray source. Reproduced from GG2 Project Handout. Author: Graham Treece\")\n",
    "<center> <i> Figure 1: Schematic of a typical X-ray source. Reproduced from GG2 Project Handout. Author: Graham Treece </i></center>\n",
    "\n",
    "\n",
    "The modules `photons.py` and `fake_source.py` provide the X-ray source generation capability of our simulation. Sources with different energy distributions can be selected from the predefined sources stored in the `source` class. The different sources vary in filter type, filter width and the potential difference between anode and cathode (see Fig.1) in kVp which limits the maximum photon energy in the resulting distribution. The predefined options are listed below:\n",
    "\n",
    "1. 100kVp, 1mm Al\n",
    "2. 100kVp, 2mm Al\n",
    "3. 100kVp, 3mm Al\n",
    "4. 100kVp, 4mm Al\n",
    "5. 80kVp, 1mm Al\n",
    "6. 80kVp, 2mm Al\n",
    "7. 80kVp, 3mm Al\n",
    "8. 80kVp, 4mm Al\n",
    "\n",
    "The source distributions for these options are plotted in Fig. 2:\n",
    "\n",
    "![Figure 2]( source_distribution.JPG \"Figure 2: Source Distribution for Predefined Options. Reproduced from GG2 Project Handout. Author: Graham Treece\")\n",
    "\n",
    "<center> <i> Figure 2: Source Distribution for Predefined Options. Reproduced from GG2 Project Handout. Author: Graham Treece </i></center>\n",
    "\n",
    "In `fake_source.py` we also provide the option of generating an arbitrary source distribution by allowing the user to define a filter material, filter width, and maximum photon energy (through anode/cathode potential difference). This module further provides the option of defining an ideal source with an energy distribution centred on the maximum photon energy specified by the user."
   ]
  },
  {
   "cell_type": "markdown",
   "metadata": {},
   "source": [
    "## 2. Modelling of X-Ray Scattering and Attenuation by Different Materials\n",
    "\n",
    "The `Material` class contains as attributes the names of 18 different materials and their corresponding attenuation coefficients for 200 energy levels (0.001 MeV - 0.2 MeV). The materials for which data is listed are:\n",
    "\n",
    "1. Air              &nbsp;   &nbsp; &nbsp;  &nbsp; &nbsp; &nbsp; &nbsp; &nbsp; &nbsp; &nbsp;  10. Chromium \n",
    "2. Adipose           &nbsp;  &nbsp;  &nbsp; &nbsp; &nbsp; &nbsp;  11. Iron\n",
    "3. Soft Tissue &nbsp;    &nbsp; &nbsp; &nbsp;  12. Carbon\n",
    "4. Breast Tissue &nbsp;  &nbsp;   13. Nickel\n",
    "5. Water &nbsp; &nbsp;  &nbsp;   &nbsp; &nbsp;  &nbsp; &nbsp; &nbsp; 14. Magnesium\n",
    "6. Blood &nbsp; &nbsp;  &nbsp;   &nbsp; &nbsp;  &nbsp; &nbsp; &nbsp; &nbsp; 15. Aluminium\n",
    "7. Bone &nbsp; &nbsp;  &nbsp;   &nbsp; &nbsp;  &nbsp; &nbsp; &nbsp; &nbsp; 16. Copper \n",
    "8. Titanium &nbsp; &nbsp;  &nbsp;   &nbsp; &nbsp;  &nbsp; 17. Co-Cr \n",
    "9. Cobalt &nbsp; &nbsp;  &nbsp;   &nbsp; &nbsp;  &nbsp; &nbsp; &nbsp;  18. Stainless Steel\n",
    "\n",
    "Typical attenuation coefficient distributions for 10 materials over the aforementioned energy range are shown in Fig.3:\n",
    "\n",
    "![Figure 3]( attenuation_coeff_distribution.JPG \"Figure 3: Attenuation Coefficient vs. Photon Energy for 10 materials in the Material Class. Reproduced from GG2 Project Handout. Author: Graham Treece\")\n",
    "\n",
    "<center> <i> Figure 3: Attenuation Coefficient vs. Photon Energy for 10 materials in the Material Class. Reproduced from GG2 Project Handout. Author: Graham Treece </i> </center>"
   ]
  },
  {
   "cell_type": "markdown",
   "metadata": {},
   "source": [
    "## 3. Simulation of the X-ray Detector Array\n",
    "\n",
    "`ct_detect.py` simulates the X-ray detector array used to measure the total residual energy of source rays after passing through a phantom. It implements the rule defined in *Equation 1*:\n",
    "\n",
    "$$I_{tot} = \\sum_{E} I_{0,E}  e^{\\sum_{m} \\mu_{m,E} x_m}  \\; \\; (Equation \\; 1) $$ \n"
   ]
  },
  {
   "cell_type": "markdown",
   "metadata": {},
   "source": [
    "## 4. Phantom Definition\n",
    "\n",
    "`ct_phantom.py` defines a phantom (`type array`) of specified dimensions using different material ellipses (with arbitirary minor/major axes and the capability of rotating the ellipse) of positive and negative \"mass\" to create different shapes. The function ct_phantom can return one of 7 different types of phantom, which are listed below:\n",
    "\n",
    "1. Simple circle for looking at calibration issues\n",
    "2. Point attenuator for looking at resolution\n",
    "3. Single large hip replacement\n",
    "4. Bilateral hip replacement\n",
    "5. Sphere with three satellites\n",
    "6. Disc and other sphere\n",
    "7. Pelvic fixation pins\n",
    "\n",
    "Types 3-7 re-create a metal hip implant whose material for the metallic element you can select by choosing the desired value of the 'metal' parameter, default is Titanium.\n",
    "\n",
    "An example of a type 3 phantom is shown in Fig.4: \n",
    "\n",
    "![Figure 4]( normal_phantom.png \"Figure 4: Type 3 Phantom - Single Large Titanium Hip Replacement (scale shows material index)\")\n",
    "\n",
    "<center> <i> Figure 4: Type 3 Phantom - Single Large Titanium Hip Replacement (scale shows material index) </i> </center>\n",
    "\n",
    "\n",
    "`atten_coeff_ct_phantom.py` performs a similar task but instead of storing the material index in the phantom array it stores the material attenuation coefficient at a user-defined energy level. This phantom is useful to compare the results of a complete simulation using an ideal source matching the user-defined energy level.\n",
    "\n",
    "An example of a phantom defined using the material attenuation coefficients for 0.069 MeV can be seen in Fig.5:\n",
    "\n",
    "![Figure 5]( atten_coeff_phantom.png \"Figure 5: Type 3 Phantom - Single Large Titanium Hip Replacement (scale shows attenuation coeffiecient at 0.069 MeV)\")\n",
    "\n",
    "<center> <i> Figure 5: Type 3 Phantom - Single Large Titanium Hip Replacement (scale shows attenuation coefficient at 0.069 MeV) </i> </center>"
   ]
  },
  {
   "cell_type": "markdown",
   "metadata": {},
   "source": [
    "## 5. Production of Uncalibrated Sinograms\n",
    "\n",
    "`ct_scan.py` performs a complete scan of a previously-defined phantom (of dimensions specified by the `scale` parameter) for a user-defined number of angles. The `ct_scan` function returns a sinogram of residual energies as computed by `ct_detect.py`, an example of which can be seen in Fig. 6:\n",
    "\n",
    "![Figure 6]( scan_256.png \"Figure 6: Residual Energy Sinogram for a Type 3 Phantom (as described in Section 4)\")\n",
    "\n",
    "<center> <i> Figure 6: Residual Energy Sinogram for a Type 3 Phantom (as described in Section 4) </i> </center>\n",
    "\n",
    "This sinogram of residual energies must be converted into a sinogram of attenuation coefficients to be able to later reconstruct the original phantom. This process is performed by the `ct_calibrate.py` module."
   ]
  },
  {
   "cell_type": "markdown",
   "metadata": {},
   "source": [
    "## 6. Production of Calibrated Sinograms\n",
    "\n",
    "`ct_calibrate.py` implements the approximation in Equation 2 to compute the total attenuation coefficient ($\\mu_{tot}$) as seen by the X-ray after passing through a section of a phantom. \n",
    "\n",
    "$$\\mu_{tot} = \\sum_{m} \\mu_{m,E} x_m \\approx \\sum_{m} \\mu_{m} x_m = -\\log_e{\\frac{I_{tot}}{\\sum_{E} I_{0,E} } }$$\n",
    "\n",
    "The function defined therein returns a sinogram of attenuation coefficients, an example of which is shown in Fig. 7:\n",
    "\n",
    "![Figure 7]( sinogram.png \"Figure 7: Attenuation Coefficient Sinogram for a Type 3 Phantom (as described in Section 4)\")\n",
    "\n",
    "<center> <i> Figure 7: Attenuation Coefficient Sinogram for a Type 3 Phantom (as described in Section 4) </i> </center>\n"
   ]
  },
  {
   "cell_type": "markdown",
   "metadata": {},
   "source": [
    "## 7. Implementation of the Inverse Radon Transform for Reconstruction from Sinograms\n",
    "\n",
    "\n",
    "The inverse *Radon transform* is used to convert the sinogram of attenuation coefficients returned by the `ct_calibrate.py` module into a scalar field of attenuation coefficients $\\mu(x,y)$ which will describe the phantom as in `atten_coeff_ct_phantom.py`. The analogy for this transform is that we are performing a filtered back-projection (see Fig. 8) of the sinogram over all angles used to define it onto an array of the same dimensions as the original phantom.\n",
    "\n",
    "![Figure 8]( back_projection.JPG \"Figure 8: Pictorial Explanation of Filtered Back-Projection. Left: Forward Projection as performed by ct_scan. Right: Back-projection as performed by back_project.py. Reproduced from GG2 Project Handout. Author: Graham Treece\")\n",
    "\n",
    "<center> <i> Figure 8: Pictorial Explanation of Filtered Back-Projection. Left: Forward Projection as performed by ct_scan. Right: Back-projection as performed by back_project.py. Reproduced from GG2 Project Handout. Author: Graham Treece</i> </center>\n",
    "\n",
    "\n",
    "The implementation of this transform requires the definition and use of the Ram-Lak filter (`ramp_filter.py`) that is convolved with the sinogram. In the frequency domain, this reduces to a multiplication between the fourier transform of the Ram-Lak filter (see Fig. 9) and the fourier transform of the sinogram. The inverse fourier transform of this multiplication integrated over all the angles (`back_project.py`) used to compute the sinogram results in the reconstruction of the original phantom.\n",
    "\n",
    "![Figure 9]( RamLak.JPG \"Figure 9: Continuous and Discretised Ram-Lak Filter. Reproduced from GG2 Project Handout. Author: Graham Treece \")\n",
    "\n",
    "<center> <i> Figure 9: Continuous and Discretised Ram-Lak Filter. Reproduced from GG2 Project Handout. Author: Graham Treece </i> </center>\n",
    "\n",
    "The continuous Ram-Lak filter was approximated by a raised cosine function with different roll-off factors defined by the parameter `alpha`. This was done to ensure the attenuation of higher spatial frequencies than those present in the phantom. The plots of this function for different values of `alpha` (as well as a comparison with the original Ram-Lak filter) are shown in Fig. 10:\n",
    "\n",
    "![Figure 10]( raised_cosine.JPG \"Figure 10: Raised Cosine Functions for different values of alpha. Reproduced from GG2 Project Handout. Author: Graham Treece \")\n",
    "\n",
    "<center> <i> Figure 10: Raised Cosine Functions for different values of alpha. Reproduced from GG2 Project Handout. Author: Graham Treece </i> </center>"
   ]
  },
  {
   "cell_type": "markdown",
   "metadata": {},
   "source": [
    "## 8. Complete Implementation of the Scanning and Reconstruction Process for an Arbitrary Phantom\n",
    "\n",
    "`scan_and_reconstruct.py` is a module that implements the full scanning and reconstruction process for a phantom of the user's choice by sequentially calling the aformentioned modules and functions. The parameters that can be varied are:\n",
    "\n",
    "1. Source Type \n",
    "2. Phantom \n",
    "3. Scale of Phantom\n",
    "4. Number of angles used in the scan\n",
    "\n",
    "The effects of changing the different parameters on the quality of the reconstruction were studied, as well as any trade-offs regarding complexity of computation. Our tests are described in the following sections:\n",
    "\n",
    "### 8.1 Varying Angles\n",
    "\n",
    "\n",
    "The two videos below demonstrate the difference in resolution when varying the number of angles in the scanning process. The first video clearly shows the reduction in streak artefacts as the number of angles increases thus improving the resolution. \n",
    "The second video demostrates how the difference between the original and the reconstructed image varies with an increasing number of angles. It can be seen that the difference becomes less visible with more angles that further shows the improvement in the resolution."
   ]
  },
  {
   "cell_type": "code",
   "execution_count": 6,
   "metadata": {},
   "outputs": [
    {
     "data": {
      "text/html": [
       "<video src=\"ideal_source_reconstruction_video.mp4\" controls  >\n",
       "      Your browser does not support the <code>video</code> element.\n",
       "    </video>"
      ],
      "text/plain": [
       "<IPython.core.display.Video object>"
      ]
     },
     "execution_count": 6,
     "metadata": {},
     "output_type": "execute_result"
    }
   ],
   "source": [
    "from IPython.display import Video\n",
    "Video(\"ideal_source_reconstruction_video.mp4\") #if video does not play please find it in the github repository"
   ]
  },
  {
   "cell_type": "markdown",
   "metadata": {},
   "source": [
    "<center> <i> Video Showing the Reconstructions for Different Numbers of Angles in the Scan. </i> </center>"
   ]
  },
  {
   "cell_type": "code",
   "execution_count": 5,
   "metadata": {},
   "outputs": [
    {
     "data": {
      "text/html": [
       "<video src=\"angle_differences_video.mp4\" controls  >\n",
       "      Your browser does not support the <code>video</code> element.\n",
       "    </video>"
      ],
      "text/plain": [
       "<IPython.core.display.Video object>"
      ]
     },
     "execution_count": 5,
     "metadata": {},
     "output_type": "execute_result"
    }
   ],
   "source": [
    "Video(\"angle_differences_video.mp4\") #if video does not play please find it in the github repository"
   ]
  },
  {
   "cell_type": "markdown",
   "metadata": {},
   "source": [
    "<center> <i> Video Showing the Difference (i.e. subtraction) between the original phantom as defined in atten_coeff_ct_phantom and Reconstructions Using Different Numbers of Angles in the Scan. </i> </center>"
   ]
  },
  {
   "cell_type": "markdown",
   "metadata": {},
   "source": [
    "### 8.2 Varying Alpha\n",
    "\n",
    "The following plots show the effect of varying the alpha parameter of the Ram-Lak filter on the reconstruction. Increasing  alpha reduces the gain for high frequency components and results in smoother images as seen below. This helps to reduce the streak artefacts introduced by the backprojection algorithm but must not be set too high as it also results in the loss of resolution.\n",
    "\n",
    "\n",
    "\n",
    "<table><tr><td><img src='reconstructed_with_ideal_source_256_0.001.png'></td><td><img src='reconstructed_with_ideal_source_256_0.05.png'></td></tr>"
   ]
  },
  {
   "cell_type": "markdown",
   "metadata": {},
   "source": [
    "<center> <i> Figure 11: Left: 256 Angles, Alpha 0.001. Right: 256 Angles, Alpha 0.05. </i> </center>"
   ]
  },
  {
   "cell_type": "markdown",
   "metadata": {},
   "source": [
    "<tr><td><img src='reconstructed_with_ideal_source_256_0.1.png'></td><td><img src='reconstructed_with_ideal_source_256_0.5.png'></td></tr>\n",
    "   "
   ]
  },
  {
   "cell_type": "markdown",
   "metadata": {},
   "source": [
    "<center> <i> Figure 12: Left: 256 Angles, Alpha 0.1. Right: 256 Angles, Alpha 0.5. </i> </center>"
   ]
  },
  {
   "cell_type": "markdown",
   "metadata": {},
   "source": [
    "   <center> <tr><td><img src='reconstructed_with_ideal_source_256_2.5.png'></td> </center> </tr>\n"
   ]
  },
  {
   "cell_type": "markdown",
   "metadata": {},
   "source": [
    "<center> <i> Figure 13: 256 Angles, Alpha 2.5. </i> </center>"
   ]
  },
  {
   "cell_type": "markdown",
   "metadata": {},
   "source": [
    "### 8.3 Varying Interpolation Method\n",
    "\n",
    "We also experimented with varying the interpolation method in the `back_project.py` module. We looked at the default linear interpolation algorithm and compared it to the cubic interpolation algorithm as defined in `scipy.interpolate.interp1d`. As seen from the images below, the cubic interpolation results in sharpened edges and boundaries of the original structure in comparison to the linear interpolation, however, it also slightly sharpens the streaks introduced by the backprojection algorithm.\n",
    "\n",
    "\n",
    "<table><tr><td><img src='reconstructed_with_ideal_source_256_0.1.png'></td><td><img src='reconstructed_with_ideal_source_256_0.1_cubic.png'></td></tr></table>"
   ]
  },
  {
   "cell_type": "markdown",
   "metadata": {},
   "source": [
    "<center> <i> Figure 14: Left: Linear Interpolation. Right: Cubic Interpolation </i> </center>"
   ]
  },
  {
   "cell_type": "markdown",
   "metadata": {},
   "source": [
    "## Some Fun!\n",
    "\n",
    "This a warning for those of you who have upcoming CT scans. Please seek medical advice urgently if you observe the following reconstruction! \n",
    "\n",
    "<table><tr><td><img src='squidward_original.png'></td><td><img src='squidward_reconstruct.png'></td></tr></table>\n",
    "\n",
    "<center> <i> Figure 15: Left: Original Phantom. Right: Reconstructed Phantom </i> </center>\n",
    "\n"
   ]
  }
 ],
 "metadata": {
  "kernelspec": {
   "display_name": "Python 3",
   "language": "python",
   "name": "python3"
  },
  "language_info": {
   "codemirror_mode": {
    "name": "ipython",
    "version": 3
   },
   "file_extension": ".py",
   "mimetype": "text/x-python",
   "name": "python",
   "nbconvert_exporter": "python",
   "pygments_lexer": "ipython3",
   "version": "3.7.3"
  }
 },
 "nbformat": 4,
 "nbformat_minor": 2
}

{
 "cells": [
  {
   "cell_type": "markdown",
   "metadata": {},
   "source": [
    "# CT Scanner Simulation: Proof of Functionality (Group 6)"
   ]
  },
  {
   "cell_type": "markdown",
   "metadata": {},
   "source": [
    "## Introduction\n",
    "\n",
    "In this report we report the functionality of the Python CT scanner Simulation that has been developed over the course of the first 2 weeks of project GG2.\n",
    "\n",
    "The main capabilities of this simulation are listed below:\n",
    "\n",
    "1. X-Ray Source Definition for X-Ray Generation (`photons.py` & `fake_source.py`)\n",
    "\n",
    "2. Modelling of X-Ray Scattering and Attenuation by Different Materials (class `Material`)\n",
    "\n",
    "3. Simulation of the X-ray Detector Array (`ct_detect.py`)\n",
    "\n",
    "4. Phantom Definition (`ct_phantom.py`)\n",
    "\n",
    "5. Production of Uncalibrated Sinograms (`ct_scan.py`)\n",
    "\n",
    "6. Production of Calibrated Sinograms (`ct_calibrate.py`)\n",
    "\n",
    "7. Implementation of the Inverse Radon Transform for Reconstruction from Sinograms (`back_project.py` & `ramp_filter.py`)\n",
    "\n",
    "8. Complete Implementation of the Scanning and Reconstruction Process for an Arbitrary Phantom (`scan_and_reconstruct.py`)"
   ]
  },
  {
   "cell_type": "markdown",
   "metadata": {},
   "source": [
    "## 1. X-Ray Source Definition for X-Ray Generation\n",
    "\n",
    "![Figure 1]( source.JPG \"Figure 1: Schematic of a typical X-ray source. Reproduced from GG2 Project Handout. Author: Graham Treece\")\n",
    "<center> <i> Figure 1: Schematic of a typical X-ray source. Reproduced from GG2 Project Handout. Author: Graham Treece </i></center>\n",
    "\n",
    "\n",
    "The modules `photons.py` and `fake_source.py` provide the X-ray source generation capability of our simulation. Sources with different energy distributions can be selected from the predefined sources stored in the `source` class. The different sources vary in filter type, filter width and the potential difference between anode and cathode (see Fig.1) in kVp which limits the maximum photon energy in the resulting distribution. The predefined options are listed below:\n",
    "\n",
    "1. 100kVp, 1mm Al\n",
    "2. 100kVp, 2mm Al\n",
    "3. 100kVp, 3mm Al\n",
    "4. 100kVp, 4mm Al\n",
    "5. 80kVp, 1mm Al\n",
    "6. 80kVp, 2mm Al\n",
    "7. 80kVp, 3mm Al\n",
    "8. 80kVp, 4mm Al\n",
    "\n",
    "The source distributions for these options are plotted in Fig. 2:\n",
    "\n",
    "![Figure 2]( source_distribution.JPG \"Figure 2: Source Distribution for Predefined Options. Reproduced from GG2 Project Handout. Author: Graham Treece\")\n",
    "\n",
    "<center> <i> Figure 2: Source Distribution for Predefined Options. Reproduced from GG2 Project Handout. Author: Graham Treece </i></center>\n",
    "\n",
    "In `fake_source.py` we also provide the option of generating an arbitrary source distribution by allowing the user to define a filter material, filter width, and maximum photon energy (through anode/cathode potential difference). This module further provides the option of defining an ideal source with an energy distribution centred on the maximum photon energy specified by the user."
   ]
  },
  {
   "cell_type": "markdown",
   "metadata": {},
   "source": [
    "## 2. Modelling of X-Ray Scattering and Attenuation by Different Materials\n",
    "\n",
    "The `Material` class contains as attributes the names of 18 different materials and their corresponding attenuation coefficients for 200 energy levels (0.001 MeV - 0.2 MeV). The materials for which data is listed are:\n",
    "\n",
    "1. Air              &nbsp;   &nbsp; &nbsp;  &nbsp; &nbsp; &nbsp; &nbsp; &nbsp; &nbsp; &nbsp;  10. Chromium \n",
    "2. Adipose           &nbsp;  &nbsp;  &nbsp; &nbsp; &nbsp; &nbsp;  11. Iron\n",
    "3. Soft Tissue &nbsp;    &nbsp; &nbsp; &nbsp;  12. Carbon\n",
    "4. Breast Tissue &nbsp;  &nbsp;   13. Nickel\n",
    "5. Water &nbsp; &nbsp;  &nbsp;   &nbsp; &nbsp;  &nbsp; &nbsp; &nbsp; 14. Magnesium\n",
    "6. Blood &nbsp; &nbsp;  &nbsp;   &nbsp; &nbsp;  &nbsp; &nbsp; &nbsp; &nbsp; 15. Aluminium\n",
    "7. Bone &nbsp; &nbsp;  &nbsp;   &nbsp; &nbsp;  &nbsp; &nbsp; &nbsp; &nbsp; 16. Copper \n",
    "8. Titanium &nbsp; &nbsp;  &nbsp;   &nbsp; &nbsp;  &nbsp; 17. Co-Cr \n",
    "9. Cobalt &nbsp; &nbsp;  &nbsp;   &nbsp; &nbsp;  &nbsp; &nbsp; &nbsp;  18. Stainless Steel\n",
    "\n",
    "Typical attenuation coefficient distribtions for 10 materials over the aforementioned energy range are shown in Fig.3:\n",
    "\n",
    "![Figure 3]( attenuation_coeff_distribution.JPG \"Figure 3: Attenuation Coefficient vs. Photon Energy for 10 materials in the Material Class. Reproduced from GG2 Project Handout. Author: Graham Treece\")\n",
    "\n",
    "<center> <i> Figure 3: Attenuation Coefficient vs. Photon Energy for 10 materials in the Material Class. Reproduced from GG2 Project Handout. Author: Graham Treece </i> </center>"
   ]
  },
  {
   "cell_type": "markdown",
   "metadata": {},
   "source": [
    "## 3. Simulation of the X-ray Detector Array\n",
    "\n",
    "`ct_detect.py` simulates the X-ray detector array used to measure the total residual energy of source rays after passing through a phantom. It implements the rule defined in *Equation 1*:\n",
    "\n",
    "$$I_{tot} = \\sum_{E} I_{0,E}  e^{\\sum_{m} \\mu_{m,E} x_m}  \\; \\; (Equation \\; 1) $$ \n"
   ]
  },
  {
   "cell_type": "markdown",
   "metadata": {},
   "source": [
    "## 4. Phantom Definition\n",
    "\n",
    "`ct_phantom.py` defines a phantom (`type array`) of specified dimensions using different material ellipses (with arbitirary minor/major axes and the capability of rotating the ellipse) of positive and negative \"mass\" to create different shapes. The function ct_phantom can return one of 7 different types of phantom, which are listed below:\n",
    "\n",
    "1. Simple circle for looking at calibration issues\n",
    "2. Point attenuator for looking at resolution\n",
    "3. Single large hip replacement\n",
    "4. Bilateral hip replacement\n",
    "5. Sphere with three satellites\n",
    "6. Disc and other sphere\n",
    "7. Pelvic fixation pins\n",
    "\n",
    "Types 3-7 re-create a metal hip implant whose material for the metallic element you can select by choosing the desired value of the 'metal' paramter, default is Titanium.\n",
    "\n",
    "An example of a type 3 phatom is shown in Fig.4: \n",
    "\n",
    "![Figure 4]( normal_phantom.png \"Figure 4: Type 3 Phantom - Single Large Titanium Hip Replacement (scale shows material index)\")\n",
    "\n",
    "<center> <i> Figure 4: Type 3 Phantom - Single Large Titanium Hip Replacement (scale shows material index) </i> </center>\n",
    "\n",
    "\n",
    "`atten_coeff_ct_phantom.py` performs a similar task but instead of storing the material index in the phantom array it stores the material attenuation coefficient at a user-defined energy level. This phantom is useful to compare the results of a complete simulation using an ideal source matching the user-defined energy level.\n",
    "\n",
    "An example of a phantom defined using the material attenuation coefficients for 0.069 MeV can be seen in Fig.5:\n",
    "\n",
    "![Figure 5]( atten_coeff_phantom.png \"Figure 5: Type 3 Phantom - Single Large Titanium Hip Replacement (scale shows attenuation coeffiecient at 0.069 MeV)\")\n",
    "\n",
    "<center> <i> Figure 5: Type 3 Phantom - Single Large Titanium Hip Replacement (scale shows attenuation coeffiecient at 0.069 MeV) </i> </center>"
   ]
  },
  {
   "cell_type": "code",
   "execution_count": null,
   "metadata": {},
   "outputs": [],
   "source": []
  },
  {
   "cell_type": "code",
   "execution_count": 5,
   "metadata": {},
   "outputs": [
    {
     "data": {
      "text/html": [
       "<video src=\"ideal_source_reconstruction_video.mp4\" controls  >\n",
       "      Your browser does not support the <code>video</code> element.\n",
       "    </video>"
      ],
      "text/plain": [
       "<IPython.core.display.Video object>"
      ]
     },
     "execution_count": 5,
     "metadata": {},
     "output_type": "execute_result"
    }
   ],
   "source": [
    "from IPython.display import Video\n",
    "Video(\"ideal_source_reconstruction_video.mp4\")"
   ]
  },
  {
   "cell_type": "code",
   "execution_count": 6,
   "metadata": {},
   "outputs": [
    {
     "data": {
      "text/html": [
       "<video src=\"angle_differences_video.mp4\" controls  >\n",
       "      Your browser does not support the <code>video</code> element.\n",
       "    </video>"
      ],
      "text/plain": [
       "<IPython.core.display.Video object>"
      ]
     },
     "execution_count": 6,
     "metadata": {},
     "output_type": "execute_result"
    }
   ],
   "source": [
    "Video(\"angle_differences_video.mp4\")"
   ]
  },
  {
   "cell_type": "code",
   "execution_count": null,
   "metadata": {},
   "outputs": [],
   "source": []
  }
 ],
 "metadata": {
  "kernelspec": {
   "display_name": "Python 3",
   "language": "python",
   "name": "python3"
  },
  "language_info": {
   "codemirror_mode": {
    "name": "ipython",
    "version": 3
   },
   "file_extension": ".py",
   "mimetype": "text/x-python",
   "name": "python",
   "nbconvert_exporter": "python",
   "pygments_lexer": "ipython3",
   "version": "3.7.3"
  }
 },
 "nbformat": 4,
 "nbformat_minor": 2
}
